{
 "cells": [
  {
   "cell_type": "code",
   "execution_count": 1,
   "id": "26df719f-74c3-431e-8208-685270c9dfce",
   "metadata": {},
   "outputs": [
    {
     "name": "stdout",
     "output_type": "stream",
     "text": [
      " constant_dollar_expenditures_no_taxes_tips.csv\n",
      " food_expenditures_source_funds.csv\n",
      "'monthly_sales by outlet.csv'\n",
      " monthly_sales.csv\n",
      " nominal_expenditures_no_taxes_tips.csv\n",
      " normalized_food_expenditures.csv\n",
      " Untitled.ipynb\n"
     ]
    }
   ],
   "source": [
    "!ls"
   ]
  },
  {
   "cell_type": "code",
   "execution_count": 2,
   "id": "7bd9e732-e865-4375-a4ec-1398acf970f8",
   "metadata": {},
   "outputs": [],
   "source": [
    "import pandas as pd\n"
   ]
  },
  {
   "cell_type": "code",
   "execution_count": 3,
   "id": "ab7c90f7-7c45-4553-a514-290468b8820b",
   "metadata": {},
   "outputs": [],
   "source": [
    "# Load the CSV files\n",
    "constant_dollar_expenditures = pd.read_csv('constant_dollar_expenditures_no_taxes_tips.csv')\n",
    "food_expenditures = pd.read_csv('food_expenditures_source_funds.csv')\n",
    "monthly_sales_by_outlet = pd.read_csv('monthly_sales by outlet.csv')\n",
    "monthly_sales = pd.read_csv('monthly_sales.csv')\n",
    "nominal_expenditures = pd.read_csv('nominal_expenditures_no_taxes_tips.csv')\n",
    "normalized_food_expenditures = pd.read_csv('normalized_food_expenditures.csv')\n"
   ]
  },
  {
   "cell_type": "code",
   "execution_count": 7,
   "id": "4167ca68-bc5f-49fb-b326-cb199f86b415",
   "metadata": {},
   "outputs": [
    {
     "name": "stdout",
     "output_type": "stream",
     "text": [
      "constant_dollar_expenditures: Year, Grocery stores sales million constant 1988 U.S. dollars without taxes and tips, Convenience stores sales million constant 1988 U.S. dollars without taxes and tips, Other food at home food stores sales million constant 1988 U.S. dollars without taxes and tips, Warehouse clubs and supercenters sales million constant 1988 U.S. dollars without taxes and tips, Other food at home stores and foodservice sales million constant 1988 U.S. dollars without taxes and tips, Mail order and home delivery sales million constant 1988 U.S. dollars without taxes and tips, Direct selling by farmers, manufacturers, and wholesalers sales million constant 1988 U.S. dollars without taxes and tips, Home production and donations sales million constant 1988 U.S. dollars without taxes and tips, Total food at home sales million constant 1988 U.S. dollars without taxes and tips, Full-service restaurants sales million constant 1988 U.S. dollars without taxes and tips, Limited-service restaurants sales million constant 1988 U.S. dollars without taxes and tips, Drinking places sales million constant 1988 U.S. dollars without taxes and tips, Hotels and motels sales million constant 1988 U.S. dollars without taxes and tips, Retail stores and vending sales million constant 1988 U.S. dollars without taxes and tips, Recreational places sales million constant 1988 U.S. dollars without taxes and tips, Schools and colleges sales million constant 1988 U.S. dollars without taxes and tips, Other food away from home sales, not elsewhere classified, million constant 1988 U.S. dollars without taxes and tips, Food furnished and donated sales million constant 1988 U.S. dollars without taxes and tips, Total food away from home sales million constant 1988 U.S. dollars without taxes and tips, Liquor stores sales million constant 1988 U.S. dollars without taxes and tips, Food stores alcohol sales million constant 1988 U.S. dollars without taxes and tips, Other alcohol at home sales, not elsewhere classified, million U.S. constant 1988 U.S. dollars without taxes and tips, Total alcohol at home sales million constant 1988 U.S. dollars without taxes and tips, Eating and drinking places alcohol sales million constant 1988 U.S. dollars without taxes and tips, Hotels and motels alcohol sales million constant 1988 U.S. dollars without taxes and tips, Other alcohol away from home, not elsewhere classified, sales million constant 1988 U.S. dollars without taxes and tips, Total alcohol away from home sales million constant 1988 U.S. dollars without taxes and tips\n",
      "food_expenditures: Year, Food at home expenditures million nominal U.S. dollars by households, Food at home expenditures million nominal U.S. dollars by government, Food at home expenditures million nominal U.S. dollars by home production, Food at home expenditures million constant 1988 U.S. dollars by households, Food at home expenditures million constant 1988 U.S. dollars by government, Food at home expenditures million constant 1988 U.S. dollars by home production, Food away from home expenditures million nominal U.S. dollars by households, Food away from home expenditures million nominal U.S. dollars by government, Food away from home expenditures million nominal U.S. dollars by home production, Food away from home expenditures million constant 1988 U.S. dollars by households, Food away from home expenditures million constant 1988 U.S. dollars by government, Food away from home expenditures million constant 1988 U.S. dollars by home production\n",
      "monthly_sales_by_outlet: Year, Month, Grocery stores sales million nominal U.S. dollars with taxes and tips, Warehouse clubs and supercenters sales million nominal U.S. dollars with taxes and tips, Other food at home sales million nominal U.S. dollars with taxes and tips, Total food at home sales million nominal U.S. dollars with taxes and tips, Full-service restaurants sales million nominal U.S. dollars with taxes and tips, Limited-service restaurants sales million nominal U.S. dollars with taxes and tips, Other food away from home sales million nominal U.S. dollars with taxes and tips, Total food away from home sales million nominal U.S. dollars with taxes and tips, Total nominal U.S. dollars food sales with taxes and tips, Grocery stores sales million constant 1988 U.S. dollars with taxes and tips, Warehouse clubs and supercenters sales million constant 1988 U.S. dollars with taxes and tips, Other food at home sales million constant 1988 U.S. dollars with taxes and tips, Total food at home sales million constant 1988 U.S. dollars with taxes and tips, Full-service restaurants sales million constant 1988 U.S. dollars with taxes and tips, Limited-service restaurants sales million constant 1988 U.S. dollars with taxes and tips, Other food away from home sales million constant 1988 U.S. dollars with taxes and tips, Total food away from home sales million constant 1988 U.S. dollars with taxes and tips, Total food sales million constant 1988 U.S. dollars with taxes and tips\n",
      "monthly_sales: Year, Month, Food at home sales million nominal U.S. dollars with taxes and tips, Food away from home sales million nominal U.S. dollars with taxes and tips, Total food sales million nominal U.S. dollars with taxes and tips, Food at home sales million constant 1988 U.S. dollars with taxes and tips, Food away from home sales million constant 1988 U.S. dollars with taxes and tips, Total food sales million constant 1988 U.S. dollars with taxes and tips\n",
      "nominal_expenditures: Year, Grocery stores sales million nominal U.S. dollars without taxes and tips, Convenience stores sales million nominal U.S. dollars without taxes and tips, Other food at home food stores sales million nominal U.S. dollars without taxes and tips, Warehouse clubs and supercenters sales million nominal U.S. dollars without taxes and tips, Other food at home stores and foodservice sales million nominal U.S. dollars without taxes and tips, Mail order and home delivery sales million nominal U.S. dollars without taxes and tips, Direct selling by farmers, manufacturers, and wholesalers sales million nominal U.S. dollars without taxes and tips, Home production and donations sales million nominal U.S. dollars without taxes and tips, Total food at home sales million nominal U.S. dollars without taxes and tips, Full-service restaurants sales million nominal U.S. dollars without taxes and tips, Limited-service restaurants sales million nominal U.S. dollars without taxes and tips, Drinking places sales million nominal U.S. dollars without taxes and tips, Hotels and motels sales million nominal U.S. dollars without taxes and tips, Retail stores and vending sales million nominal U.S. dollars without taxes and tips, Recreational places sales million nominal U.S. dollars without taxes and tips, Schools and colleges sales million nominal U.S. dollars without taxes and tips, Other food away from home sales, not elsewhere classified, million nominal U.S. dollars without taxes and tips, Food furnished and donated sales million nominal U.S. dollars without taxes and tips, Total food away from home sales million nominal U.S. dollars without taxes and tips, Liquor stores sales million nominal U.S. dollars without taxes and tips, Alcohol away from home food stores sales million nominal U.S. dollars without taxes and tips, Other alcohol at home sales, not elsewhere classified, million dollars nominal U.S. dollars without taxes and tips, Total alcohol at home sales million dollars nominal U.S. dollars without taxes and tips, Eating and drinking places sales million alcohol at home nominal U.S. dollars without taxes and tips, Hotels and motels sales million nominal U.S. dollars without taxes and tips.1, Other AAFH, NEC sales million nominal U.S. dollars without taxes and tips, Total AAFH sales million nominal U.S. dollars without taxes and tips\n",
      "normalized_food_expenditures: Year, Food at home expenditures percentage share of disposable personal income per household nominal U.S. dollars, Food away from home expenditures percentage share of disposable personal income per household nominal U.S. dollars, Total food expenditures percentage share of disposable personal income per household nominal U.S. dollars, Food at home percentage share of food expenditures nominal U.S. dollars, Food away from home percentage share of food expenditures nominal U.S. dollars, Food at home expenditures per household nominal U.S. dollars, Food away from home expenditures per household nominal U.S. dollars, Total food expenditures per household nominal U.S. dollars, Food at home expenditures per household constant 1988 U.S. dollars, Food away from home expenditures per household constant 1988 U.S. dollars, Total food expenditures per household constant 1988 U.S. dollars, Food at home percentage share of food expenditures nominal U.S. dollars for all purchasers, Food away from home percentage share of food expenditures nominal U.S. dollars for all purchasers, Food at home expenditures per capita nominal U.S. dollars for all purchasers, Food away from home expenditures per capita nominal U.S. dollars for all purchasers, Total food expenditures per capita nominal U.S. dollars for all purchasers, Food at home expenditures per capita for all purchasers in constant 1988 U.S. dollars, Food away from home expenditures per capita for all purchasers in constant 1988 U.S. dollars, Total food expenditures per capita for all purchasers in constant 1988 U.S. dollars\n"
     ]
    }
   ],
   "source": [
    "# List of DataFrames with their names\n",
    "dataframes = {\n",
    "    'constant_dollar_expenditures': constant_dollar_expenditures,\n",
    "    'food_expenditures': food_expenditures,\n",
    "    'monthly_sales_by_outlet': monthly_sales_by_outlet,\n",
    "    'monthly_sales': monthly_sales,\n",
    "    'nominal_expenditures': nominal_expenditures,\n",
    "    'normalized_food_expenditures': normalized_food_expenditures\n",
    "}\n",
    "\n",
    "# Loop through the dictionary and print DataFrame name and columns\n",
    "for df_name, df in dataframes.items():\n",
    "    print(f\"{df_name}: {', '.join(df.columns)}\")\n"
   ]
  },
  {
   "cell_type": "markdown",
   "id": "abc56b9e-eae9-4917-b10d-f0a00bc2e525",
   "metadata": {},
   "source": [
    "<div style=\"background-color: #003366; padding: 20px; border-radius: 10px;\">\n",
    "  <h1 style=\"color: white; text-align: center; font-family: Arial, sans-serif;\">Analyzing the Food Market to Understand the Agricultural Market</h1>\n",
    "  <p style=\"color: white; font-family: Arial, sans-serif; font-size: 16px; line-height: 1.6;\">\n",
    "    Analyzing the food market to understand the agricultural market is a powerful approach, as the two are closely interconnected. Agriculture provides the raw materials (like grains, fruits, vegetables, livestock) that fuel the food market, and the food market reflects trends in demand that drive agricultural production. \n",
    "    <br><br>\n",
    "    To achieve a comprehensive analysis, here’s a structured approach to analyzing the food market and gaining insights into the agricultural market:\n",
    "  </p>\n",
    "</div>\n",
    "\n",
    "<h2 style=\"color: #003366; font-family: Arial, sans-serif; text-align: center;\">Steps to Analyze the Food Market and Agricultural Market</h2>\n",
    "\n",
    "<ul style=\"font-family: Arial, sans-serif; font-size: 16px;\">\n",
    "  <li><strong style=\"color: #003366;\">1. Market Overview</strong>: Understanding national food expenditure trends and their impact on agriculture.</li>\n",
    "  <li><strong style=\"color: #003366;\">2. Consumer Spending Behavior</strong>: Analyzing how consumers allocate their budgets between food-at-home and food-away-from-home expenditures.</li>\n",
    "  <li><strong style=\"color: #003366;\">3. Food Price Trends</strong>: Examining price fluctuations across different food categories and their correlation to agricultural commodity prices.</li>\n",
    "  <li><strong style=\"color: #003366;\">4. Sales and Revenue Patterns</strong>: Investigating sales data by product type, including groceries, restaurants, and alcohol, and comparing them to agricultural output.</li>\n",
    "  <li><strong style=\"color: #003366;\">5. Regional Disparities</strong>: Analyzing food expenditure patterns at state and national levels, identifying differences that may affect agricultural markets regionally.</li>\n",
    "</ul>\n",
    "\n",
    "<h3 style=\"color: #003366; font-family: Arial, sans-serif; text-align: center;\">Focus Areas Based availabe Dataset</h3>\n",
    "\n",
    "<p style=\"font-family: Arial, sans-serif; font-size: 16px; line-height: 1.6;\">\n",
    "  Based on the datasets you’ve downloaded, here are some critical focus areas:\n",
    "</p>\n",
    "\n",
    "<ul style=\"font-family: Arial, sans-serif; font-size: 16px;\">\n",
    "  <li><strong style=\"color: #003366;\">1. Constant Dollar Expenditures</strong>: Explore trends in food expenditure over time, adjusting for inflation, which is crucial to understanding the purchasing power in the food market. \n",
    "    <br><i>Relevant dataset: constant_dollar_expenditures</i>\n",
    "  </li>\n",
    "  <li><strong style=\"color: #003366;\">2. Food Expenditures by Household, Government, and Home Production</strong>: Examine the breakdown of food expenditures between different contributors (households, government, and home production) and their correlation with the agricultural market.\n",
    "    <br><i>Relevant dataset: food_expenditures</i>\n",
    "  </li>\n",
    "  <li><strong style=\"color: #003366;\">3. Monthly Sales by Outlet</strong>: Analyze sales data from various food outlets like grocery stores, supermarkets, and restaurants, as well as trends in consumer spending.\n",
    "    <br><i>Relevant dataset: monthly_sales_by_outlet</i>\n",
    "  </li>\n",
    "  <li><strong style=\"color: #003366;\">4. Nominal and Constant Dollar Sales Trends</strong>: Study sales in both nominal and constant 1988 U.S. dollars to understand the price evolution and purchasing power.\n",
    "    <br><i>Relevant datasets: nominal_expenditures, monthly_sales, constant_dollar_expenditures</i>\n",
    "  </li>\n",
    "  <li><strong style=\"color: #003366;\">5. Normalized Food Expenditures</strong>: Analyze the share of disposable personal income allocated for food expenditures, and how trends in food prices impact these allocations.\n",
    "    <br><i>Relevant dataset: normalized_food_expenditures</i>\n",
    "  </li>\n",
    "</ul>\n",
    "\n",
    "<p style=\"font-family: Arial, sans-serif; font-size: 16px; line-height: 1.6;\">\n",
    "  By focusing on these datasets and steps, you can uncover valuable insights into food market dynamics, consumer behavior, and the underlying factors driving the agricultural market.\n",
    "</p>\n",
    "\n"
   ]
  },
  {
   "cell_type": "markdown",
   "id": "277fbb66-e0c0-43fb-a1f0-ec5c91a518e5",
   "metadata": {},
   "source": [
    "<style>\n",
    "    h1 {\n",
    "        color: #001f3d;\n",
    "        font-size: 28px;\n",
    "        font-weight: bold;\n",
    "        text-align: center;\n",
    "    }\n",
    "    h2 {\n",
    "        color: #001f3d;\n",
    "        font-size: 22px;\n",
    "        font-weight: bold;\n",
    "    }\n",
    "    p {\n",
    "        font-size: 16px;\n",
    "        line-height: 1.6;\n",
    "        color: #333;\n",
    "    }\n",
    "    ul {\n",
    "        font-size: 16px;\n",
    "        color: #333;\n",
    "    }\n",
    "    li {\n",
    "        margin-bottom: 10px;\n",
    "    }\n",
    "</style>\n",
    "\n",
    "# Understanding the Food Market and Its Connection to the Agricultural Market\n",
    "\n",
    "Analyzing the food market to understand the agricultural market is a powerful approach, as the two are closely interconnected. Agriculture provides the raw materials (like grains, fruits, vegetables, livestock) that fuel the food market, and the food market reflects trends in demand that drive agricultural production. To achieve a comprehensive analysis, here’s a structured approach to analyzing the food market and gaining insights into the agricultural market:\n",
    "\n",
    "---\n",
    "\n",
    "## 1. **Understanding the Big Picture**\n",
    "\n",
    "**Goal:** Start by understanding general trends in food expenditures over time, which will provide you with insights into how inflation, purchasing power, and spending behavior are changing.\n",
    "\n",
    "**Dataset to start with:** `constant_dollar_expenditures`.\n",
    "\n",
    "This dataset will allow you to see trends in food expenditure over time, adjusted for inflation. By using this data, you can understand whether people are spending more or less on food in real terms (adjusted for inflation), which is crucial for understanding changes in purchasing power.\n",
    "\n",
    "---\n",
    "\n",
    "## 2. **Deep Dive into Consumer Behavior**\n",
    "\n",
    "**Goal:** Examine how different contributors (households, government, and home production) are affecting the food market and whether these patterns correlate with the agricultural market.\n",
    "\n",
    "**Dataset to use:** `food_expenditures`.\n",
    "\n",
    "After understanding the general expenditure trends, use the `food_expenditures` dataset to break down food expenditures by different contributors. This will help you understand who is driving the food market (households, government, or home production) and how changes in these groups might affect the agricultural sector.\n",
    "\n",
    "---\n",
    "\n",
    "## 3. **Sales and Outlet Analysis**\n",
    "\n",
    "**Goal:** Explore sales trends from different food outlets and their relationship to food expenditures.\n",
    "\n",
    "**Dataset to use:** `monthly_sales_by_outlet`.\n",
    "\n",
    "Once you've understood spending patterns and contributors, you can now look into where these expenditures are occurring. The `monthly_sales_by_outlet` dataset will show you how consumer spending varies across grocery stores, supermarkets, and restaurants, and this can provide insights into how the retail landscape impacts the agricultural market.\n",
    "\n",
    "---\n",
    "\n",
    "## 4. **Sales Trends Analysis (Nominal vs. Constant Dollar)**\n",
    "\n",
    "**Goal:** Investigate sales trends in both nominal (current) and constant (inflation-adjusted) terms to understand the price evolution.\n",
    "\n",
    "**Datasets to use:** `nominal_expenditures`, `monthly_sales`, `constant_dollar_expenditures`.\n",
    "\n",
    "After analyzing consumer behavior, it's useful to look at both nominal and constant sales trends to determine whether increasing sales are due to inflation or actual increased consumption. This will give you a clearer picture of price evolution and consumer purchasing power over time.\n",
    "\n",
    "---\n",
    "\n",
    "## 5. **Income Share and Expenditure Proportions**\n",
    "\n",
    "**Goal:** Investigate the share of disposable income allocated to food expenditures and how food prices are affecting these allocations.\n",
    "\n",
    "**Dataset to use:** `normalized_food_expenditures`.\n",
    "\n",
    "Finally, use the `normalized_food_expenditures` dataset to analyze how much of consumers' income is being spent on food, both at home and away from home. This will provide an understanding of the relative importance of food in household budgets and how trends in income and food prices affect this allocation.\n",
    "\n",
    "---\n"
   ]
  },
  {
   "cell_type": "code",
   "execution_count": 1,
   "id": "dd8f94dc-d9a4-4002-ad89-dadd87c8a105",
   "metadata": {},
   "outputs": [
    {
     "data": {
      "text/plain": [
       "77760"
      ]
     },
     "execution_count": 1,
     "metadata": {},
     "output_type": "execute_result"
    }
   ],
   "source": [
    "3*3*3*3*4*3*4*4*5"
   ]
  },
  {
   "cell_type": "code",
   "execution_count": null,
   "id": "9c4f5728-15a0-4588-8d40-809f2038bf64",
   "metadata": {},
   "outputs": [],
   "source": []
  }
 ],
 "metadata": {
  "kernelspec": {
   "display_name": "Python 3 (ipykernel)",
   "language": "python",
   "name": "python3"
  },
  "language_info": {
   "codemirror_mode": {
    "name": "ipython",
    "version": 3
   },
   "file_extension": ".py",
   "mimetype": "text/x-python",
   "name": "python",
   "nbconvert_exporter": "python",
   "pygments_lexer": "ipython3",
   "version": "3.8.20"
  }
 },
 "nbformat": 4,
 "nbformat_minor": 5
}
