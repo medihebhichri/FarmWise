{
 "cells": [
  {
   "cell_type": "code",
   "execution_count": null,
   "id": "97d21a36-1649-4442-b1f4-5b56081f7b2c",
   "metadata": {},
   "outputs": [],
   "source": []
  }
 ],
 "metadata": {
  "kernelspec": {
   "display_name": "",
   "name": ""
  },
  "language_info": {
   "name": ""
  }
 },
 "nbformat": 4,
 "nbformat_minor": 5
}
